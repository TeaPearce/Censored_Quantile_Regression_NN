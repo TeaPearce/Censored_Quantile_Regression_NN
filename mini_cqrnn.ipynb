{
 "cells": [
  {
   "cell_type": "code",
   "execution_count": null,
   "metadata": {},
   "outputs": [
    {
     "ename": "",
     "evalue": "",
     "output_type": "error",
     "traceback": [
      "\u001b[1;31mRunning cells with 'Python 3.8.0 ('usi_env')' requires ipykernel package.\n",
      "\u001b[1;31mRun the following command to install 'ipykernel' into the Python environment. \n",
      "\u001b[1;31mCommand: 'conda install -n usi_env ipykernel --update-deps --force-reinstall'"
     ]
    }
   ],
   "source": [
    "import numpy \n",
    "import torch\n",
    "import matplotlib.pyplot as plt"
   ]
  },
  {
   "cell_type": "code",
   "execution_count": null,
   "metadata": {},
   "outputs": [],
   "source": [
    "class DatasetMini:\n",
    "\tdef __init__(self):\n",
    "        pass\n",
    "\tdef get_observe_times(self, x):\n",
    "\t\treturn np.clip(np.random.normal(loc=self.param1_target(x), scale = self.param2_target(x)),0.1,10000)\n",
    "\tdef get_censor_times(self, x):\n",
    "\t\treturn np.random.uniform(self.param1_cen(x), self.param1_cen(x)+self.param2_cen(x))\n",
    "\tdef get_quantile_truth(self, x, q):\n",
    "\t\treturn scipy.stats.norm(self.param1_target(x),self.param2_target(x)).ppf(q)\n",
    "\tdef get_mean_truth(self, x):\n",
    "\t\treturn scipy.stats.norm(self.param1_target(x),self.param2_target(x)).mean()\n",
    "\tdef get_censored_quantile_truth(self, x, q):\n",
    "\t\treturn scipy.stats.uniform(loc=self.param1_cen(x),scale=self.param2_cen(x)).ppf(q)\n",
    "\tdef param1_target(self,x):\n",
    "\t\treturn 2*x*np.cos(2*x)+13\n",
    "\tdef param2_target(self,x):\n",
    "\t\treturn (x**2+1/2)\n",
    "\tdef param1_cen(self,x):\n",
    "\t\treturn x*0\n",
    "\tdef param2_cen(self,x):\n",
    "\t\treturn x*0+18 # this is width"
   ]
  },
  {
   "cell_type": "code",
   "execution_count": null,
   "metadata": {},
   "outputs": [],
   "source": [
    "x_range=[0,1]\n",
    "n_data=500\n",
    "input_dim=1\n",
    "\n",
    "mydataset = DatasetMini()"
   ]
  },
  {
   "cell_type": "code",
   "execution_count": null,
   "metadata": {},
   "outputs": [],
   "source": [
    "# sample x\n",
    "x = np.random.uniform(x_range[0],x_range[1],size=(n_data,input_dim))\n",
    "\n",
    "# compute target\n",
    "target = mydataset.get_observe_times(x).flatten()\n",
    "\n",
    "# compute censor\n",
    "cen = mydataset.get_censor_times(x).flatten()\n",
    "\n",
    "# y = min(target,cen)\n",
    "y = np.minimum(cen,target)\n",
    "cen_indicator = np.array([cen<target])*1 # 1 if censored else 0\n",
    "obs_indicator = np.array([cen>=target])*1 # 1 if observed else 0\n"
   ]
  },
  {
   "cell_type": "code",
   "execution_count": null,
   "metadata": {},
   "outputs": [],
   "source": []
  },
  {
   "cell_type": "code",
   "execution_count": null,
   "metadata": {},
   "outputs": [],
   "source": []
  }
 ],
 "metadata": {
  "kernelspec": {
   "display_name": "Python 3.8.0 ('usi_env')",
   "language": "python",
   "name": "python3"
  },
  "language_info": {
   "name": "python",
   "version": "3.8.0"
  },
  "orig_nbformat": 4,
  "vscode": {
   "interpreter": {
    "hash": "75c0472c6e0e36ad12313fc03b16539d389d2e59ba4bcd76a01bf66072e1455e"
   }
  }
 },
 "nbformat": 4,
 "nbformat_minor": 2
}
